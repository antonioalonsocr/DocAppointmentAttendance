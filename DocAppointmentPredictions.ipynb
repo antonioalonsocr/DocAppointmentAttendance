{
  "nbformat": 4,
  "nbformat_minor": 0,
  "metadata": {
    "colab": {
      "name": "DocAppointmentPredictions.ipynb",
      "provenance": [],
      "collapsed_sections": [],
      "authorship_tag": "ABX9TyPRPjaxXyPh98uY1QPfvcW0",
      "include_colab_link": true
    },
    "kernelspec": {
      "name": "python3",
      "display_name": "Python 3"
    },
    "language_info": {
      "name": "python"
    }
  },
  "cells": [
    {
      "cell_type": "markdown",
      "metadata": {
        "id": "view-in-github",
        "colab_type": "text"
      },
      "source": [
        "<a href=\"https://colab.research.google.com/github/antonioalonsocr/DocAppointmentAttendance/blob/main/DocAppointmentPredictions.ipynb\" target=\"_parent\"><img src=\"https://colab.research.google.com/assets/colab-badge.svg\" alt=\"Open In Colab\"/></a>"
      ]
    },
    {
      "cell_type": "code",
      "metadata": {
        "colab": {
          "base_uri": "https://localhost:8080/"
        },
        "id": "JnjQXGBQ9gID",
        "outputId": "7e178529-8ade-4c29-a44e-5b7d5cd3ac1b"
      },
      "source": [
        "from google.colab import drive\n",
        "drive.mount('/content/drive')"
      ],
      "execution_count": 1,
      "outputs": [
        {
          "output_type": "stream",
          "text": [
            "Drive already mounted at /content/drive; to attempt to forcibly remount, call drive.mount(\"/content/drive\", force_remount=True).\n"
          ],
          "name": "stdout"
        }
      ]
    },
    {
      "cell_type": "code",
      "metadata": {
        "id": "OVgyQQ_2-C7p"
      },
      "source": [
        "import pandas as pd\n",
        "import matplotlib.pyplot as plt\n",
        "import numpy as np\n",
        "from datetime import datetime"
      ],
      "execution_count": 2,
      "outputs": []
    },
    {
      "cell_type": "markdown",
      "metadata": {
        "id": "L6MouvIuvinB"
      },
      "source": [
        "# Import data and preliminary analysis"
      ]
    },
    {
      "cell_type": "code",
      "metadata": {
        "colab": {
          "base_uri": "https://localhost:8080/",
          "height": 304
        },
        "id": "TvNSroYI-rHj",
        "outputId": "e7fce43c-7018-4671-b278-8c0cf27f9a71"
      },
      "source": [
        "doc_df = pd.read_csv('/content/drive/MyDrive/CodingDojo/Project2/DocAppNoShow.csv')\n",
        "doc_df.head()"
      ],
      "execution_count": 72,
      "outputs": [
        {
          "output_type": "execute_result",
          "data": {
            "text/html": [
              "<div>\n",
              "<style scoped>\n",
              "    .dataframe tbody tr th:only-of-type {\n",
              "        vertical-align: middle;\n",
              "    }\n",
              "\n",
              "    .dataframe tbody tr th {\n",
              "        vertical-align: top;\n",
              "    }\n",
              "\n",
              "    .dataframe thead th {\n",
              "        text-align: right;\n",
              "    }\n",
              "</style>\n",
              "<table border=\"1\" class=\"dataframe\">\n",
              "  <thead>\n",
              "    <tr style=\"text-align: right;\">\n",
              "      <th></th>\n",
              "      <th>PatientId</th>\n",
              "      <th>AppointmentID</th>\n",
              "      <th>Gender</th>\n",
              "      <th>ScheduledDay</th>\n",
              "      <th>AppointmentDay</th>\n",
              "      <th>Age</th>\n",
              "      <th>Neighbourhood</th>\n",
              "      <th>Scholarship</th>\n",
              "      <th>Hipertension</th>\n",
              "      <th>Diabetes</th>\n",
              "      <th>Alcoholism</th>\n",
              "      <th>Handcap</th>\n",
              "      <th>SMS_received</th>\n",
              "      <th>No-show</th>\n",
              "    </tr>\n",
              "  </thead>\n",
              "  <tbody>\n",
              "    <tr>\n",
              "      <th>0</th>\n",
              "      <td>2.987250e+13</td>\n",
              "      <td>5642903</td>\n",
              "      <td>F</td>\n",
              "      <td>2016-04-29T18:38:08Z</td>\n",
              "      <td>2016-04-29T00:00:00Z</td>\n",
              "      <td>62</td>\n",
              "      <td>JARDIM DA PENHA</td>\n",
              "      <td>0</td>\n",
              "      <td>1</td>\n",
              "      <td>0</td>\n",
              "      <td>0</td>\n",
              "      <td>0</td>\n",
              "      <td>0</td>\n",
              "      <td>No</td>\n",
              "    </tr>\n",
              "    <tr>\n",
              "      <th>1</th>\n",
              "      <td>5.589978e+14</td>\n",
              "      <td>5642503</td>\n",
              "      <td>M</td>\n",
              "      <td>2016-04-29T16:08:27Z</td>\n",
              "      <td>2016-04-29T00:00:00Z</td>\n",
              "      <td>56</td>\n",
              "      <td>JARDIM DA PENHA</td>\n",
              "      <td>0</td>\n",
              "      <td>0</td>\n",
              "      <td>0</td>\n",
              "      <td>0</td>\n",
              "      <td>0</td>\n",
              "      <td>0</td>\n",
              "      <td>No</td>\n",
              "    </tr>\n",
              "    <tr>\n",
              "      <th>2</th>\n",
              "      <td>4.262962e+12</td>\n",
              "      <td>5642549</td>\n",
              "      <td>F</td>\n",
              "      <td>2016-04-29T16:19:04Z</td>\n",
              "      <td>2016-04-29T00:00:00Z</td>\n",
              "      <td>62</td>\n",
              "      <td>MATA DA PRAIA</td>\n",
              "      <td>0</td>\n",
              "      <td>0</td>\n",
              "      <td>0</td>\n",
              "      <td>0</td>\n",
              "      <td>0</td>\n",
              "      <td>0</td>\n",
              "      <td>No</td>\n",
              "    </tr>\n",
              "    <tr>\n",
              "      <th>3</th>\n",
              "      <td>8.679512e+11</td>\n",
              "      <td>5642828</td>\n",
              "      <td>F</td>\n",
              "      <td>2016-04-29T17:29:31Z</td>\n",
              "      <td>2016-04-29T00:00:00Z</td>\n",
              "      <td>8</td>\n",
              "      <td>PONTAL DE CAMBURI</td>\n",
              "      <td>0</td>\n",
              "      <td>0</td>\n",
              "      <td>0</td>\n",
              "      <td>0</td>\n",
              "      <td>0</td>\n",
              "      <td>0</td>\n",
              "      <td>No</td>\n",
              "    </tr>\n",
              "    <tr>\n",
              "      <th>4</th>\n",
              "      <td>8.841186e+12</td>\n",
              "      <td>5642494</td>\n",
              "      <td>F</td>\n",
              "      <td>2016-04-29T16:07:23Z</td>\n",
              "      <td>2016-04-29T00:00:00Z</td>\n",
              "      <td>56</td>\n",
              "      <td>JARDIM DA PENHA</td>\n",
              "      <td>0</td>\n",
              "      <td>1</td>\n",
              "      <td>1</td>\n",
              "      <td>0</td>\n",
              "      <td>0</td>\n",
              "      <td>0</td>\n",
              "      <td>No</td>\n",
              "    </tr>\n",
              "  </tbody>\n",
              "</table>\n",
              "</div>"
            ],
            "text/plain": [
              "      PatientId  AppointmentID Gender  ... Handcap SMS_received  No-show\n",
              "0  2.987250e+13        5642903      F  ...       0            0       No\n",
              "1  5.589978e+14        5642503      M  ...       0            0       No\n",
              "2  4.262962e+12        5642549      F  ...       0            0       No\n",
              "3  8.679512e+11        5642828      F  ...       0            0       No\n",
              "4  8.841186e+12        5642494      F  ...       0            0       No\n",
              "\n",
              "[5 rows x 14 columns]"
            ]
          },
          "metadata": {},
          "execution_count": 72
        }
      ]
    },
    {
      "cell_type": "code",
      "metadata": {
        "colab": {
          "base_uri": "https://localhost:8080/"
        },
        "id": "4XShiXCzYFcA",
        "outputId": "5d309de3-fca6-4898-d2e6-f233bba3cdac"
      },
      "source": [
        "(doc_df['No-show']=='Yes').sum()"
      ],
      "execution_count": 73,
      "outputs": [
        {
          "output_type": "execute_result",
          "data": {
            "text/plain": [
              "22319"
            ]
          },
          "metadata": {},
          "execution_count": 73
        }
      ]
    },
    {
      "cell_type": "code",
      "metadata": {
        "colab": {
          "base_uri": "https://localhost:8080/"
        },
        "id": "JXcW4BQROXQo",
        "outputId": "76cad800-ed86-450c-c00c-76f35e0e09be"
      },
      "source": [
        "doc_df['AppointmentID'].duplicated().any()"
      ],
      "execution_count": 74,
      "outputs": [
        {
          "output_type": "execute_result",
          "data": {
            "text/plain": [
              "False"
            ]
          },
          "metadata": {},
          "execution_count": 74
        }
      ]
    },
    {
      "cell_type": "code",
      "metadata": {
        "colab": {
          "base_uri": "https://localhost:8080/"
        },
        "id": "IhabbSSC-7Q0",
        "outputId": "f1131e65-2f76-4955-9866-a5c30e890aed"
      },
      "source": [
        "# There are no missing values\n",
        "doc_df.info()"
      ],
      "execution_count": 75,
      "outputs": [
        {
          "output_type": "stream",
          "text": [
            "<class 'pandas.core.frame.DataFrame'>\n",
            "RangeIndex: 110527 entries, 0 to 110526\n",
            "Data columns (total 14 columns):\n",
            " #   Column          Non-Null Count   Dtype  \n",
            "---  ------          --------------   -----  \n",
            " 0   PatientId       110527 non-null  float64\n",
            " 1   AppointmentID   110527 non-null  int64  \n",
            " 2   Gender          110527 non-null  object \n",
            " 3   ScheduledDay    110527 non-null  object \n",
            " 4   AppointmentDay  110527 non-null  object \n",
            " 5   Age             110527 non-null  int64  \n",
            " 6   Neighbourhood   110527 non-null  object \n",
            " 7   Scholarship     110527 non-null  int64  \n",
            " 8   Hipertension    110527 non-null  int64  \n",
            " 9   Diabetes        110527 non-null  int64  \n",
            " 10  Alcoholism      110527 non-null  int64  \n",
            " 11  Handcap         110527 non-null  int64  \n",
            " 12  SMS_received    110527 non-null  int64  \n",
            " 13  No-show         110527 non-null  object \n",
            "dtypes: float64(1), int64(8), object(5)\n",
            "memory usage: 11.8+ MB\n"
          ],
          "name": "stdout"
        }
      ]
    },
    {
      "cell_type": "markdown",
      "metadata": {
        "id": "v7WKQ3g3vuTD"
      },
      "source": [
        "# Cleaning data and further analysis"
      ]
    },
    {
      "cell_type": "code",
      "metadata": {
        "colab": {
          "base_uri": "https://localhost:8080/"
        },
        "id": "VxMQ-3nw_G33",
        "outputId": "a4c88b7c-510c-446f-db55-20c836b3f2b7"
      },
      "source": [
        "print(datetime.strptime(doc_df['AppointmentDay'][1], '%Y-%m-%dT%H:%M:%SZ'))"
      ],
      "execution_count": 76,
      "outputs": [
        {
          "output_type": "stream",
          "text": [
            "2016-04-29 00:00:00\n"
          ],
          "name": "stdout"
        }
      ]
    },
    {
      "cell_type": "code",
      "metadata": {
        "id": "sX61MbOfEMlJ"
      },
      "source": [
        "# Changing the type of columns to fit their type;\n",
        "# From object (string) to a datetime object\n",
        "doc_df['ScheduledDay'] = pd.to_datetime(doc_df['ScheduledDay'])\n",
        "doc_df['AppointmentDay'] = pd.to_datetime(doc_df['AppointmentDay'])"
      ],
      "execution_count": 77,
      "outputs": []
    },
    {
      "cell_type": "code",
      "metadata": {
        "colab": {
          "base_uri": "https://localhost:8080/"
        },
        "id": "9OLEUwVrK3YY",
        "outputId": "e0b40662-1c3f-4d8a-a099-16d142f39004"
      },
      "source": [
        "doc_df['No-show'].value_counts()"
      ],
      "execution_count": 78,
      "outputs": [
        {
          "output_type": "execute_result",
          "data": {
            "text/plain": [
              "No     88208\n",
              "Yes    22319\n",
              "Name: No-show, dtype: int64"
            ]
          },
          "metadata": {},
          "execution_count": 78
        }
      ]
    },
    {
      "cell_type": "code",
      "metadata": {
        "id": "cBT4mCfwJJPs"
      },
      "source": [
        "# Now I want to change the values of No-show to binary,\n",
        "# where 1 indicates the person did not attend the appointment\n",
        "doc_df['No-show'].replace({'No':'0','Yes':'1'},inplace=True)\n",
        "doc_df['No-show'] = doc_df['No-show'].astype('int')"
      ],
      "execution_count": 79,
      "outputs": []
    },
    {
      "cell_type": "code",
      "metadata": {
        "colab": {
          "base_uri": "https://localhost:8080/"
        },
        "id": "I4mYBcjCYj3N",
        "outputId": "4ed26907-7792-4099-e903-513b0408b50d"
      },
      "source": [
        "doc_df['No-show'].sum()"
      ],
      "execution_count": 80,
      "outputs": [
        {
          "output_type": "execute_result",
          "data": {
            "text/plain": [
              "22319"
            ]
          },
          "metadata": {},
          "execution_count": 80
        }
      ]
    },
    {
      "cell_type": "code",
      "metadata": {
        "colab": {
          "base_uri": "https://localhost:8080/"
        },
        "id": "AiQwsDYJLOV2",
        "outputId": "b9b2b4f1-b672-45e9-f0a2-e3dc705eb454"
      },
      "source": [
        "doc_df.info()"
      ],
      "execution_count": 81,
      "outputs": [
        {
          "output_type": "stream",
          "text": [
            "<class 'pandas.core.frame.DataFrame'>\n",
            "RangeIndex: 110527 entries, 0 to 110526\n",
            "Data columns (total 14 columns):\n",
            " #   Column          Non-Null Count   Dtype              \n",
            "---  ------          --------------   -----              \n",
            " 0   PatientId       110527 non-null  float64            \n",
            " 1   AppointmentID   110527 non-null  int64              \n",
            " 2   Gender          110527 non-null  object             \n",
            " 3   ScheduledDay    110527 non-null  datetime64[ns, UTC]\n",
            " 4   AppointmentDay  110527 non-null  datetime64[ns, UTC]\n",
            " 5   Age             110527 non-null  int64              \n",
            " 6   Neighbourhood   110527 non-null  object             \n",
            " 7   Scholarship     110527 non-null  int64              \n",
            " 8   Hipertension    110527 non-null  int64              \n",
            " 9   Diabetes        110527 non-null  int64              \n",
            " 10  Alcoholism      110527 non-null  int64              \n",
            " 11  Handcap         110527 non-null  int64              \n",
            " 12  SMS_received    110527 non-null  int64              \n",
            " 13  No-show         110527 non-null  int64              \n",
            "dtypes: datetime64[ns, UTC](2), float64(1), int64(9), object(2)\n",
            "memory usage: 11.8+ MB\n"
          ],
          "name": "stdout"
        }
      ]
    },
    {
      "cell_type": "code",
      "metadata": {
        "id": "0lZ4Epf9LRKB"
      },
      "source": [
        "doc_df.set_index('AppointmentID',inplace=True)\n",
        "doc_df.rename(columns={'Hipertension':'Hypertension',\n",
        "               'PatientId':'PatientID',\n",
        "               'No-show':'NoShow',\n",
        "               'SMS_received':'SMSReceived',\n",
        "               'Handcap':'Handicap'},inplace=True)"
      ],
      "execution_count": 82,
      "outputs": []
    },
    {
      "cell_type": "code",
      "metadata": {
        "colab": {
          "base_uri": "https://localhost:8080/"
        },
        "id": "2B9nniqHYs90",
        "outputId": "2a20d35d-c667-4306-a30f-75f467381899"
      },
      "source": [
        "doc_df['NoShow'].sum()"
      ],
      "execution_count": 83,
      "outputs": [
        {
          "output_type": "execute_result",
          "data": {
            "text/plain": [
              "22319"
            ]
          },
          "metadata": {},
          "execution_count": 83
        }
      ]
    },
    {
      "cell_type": "code",
      "metadata": {
        "colab": {
          "base_uri": "https://localhost:8080/",
          "height": 318
        },
        "id": "AobmAZ9eMAOS",
        "outputId": "acceec7e-dfc2-497b-f8bb-79b4c7364162"
      },
      "source": [
        "doc_df.head()"
      ],
      "execution_count": 84,
      "outputs": [
        {
          "output_type": "execute_result",
          "data": {
            "text/html": [
              "<div>\n",
              "<style scoped>\n",
              "    .dataframe tbody tr th:only-of-type {\n",
              "        vertical-align: middle;\n",
              "    }\n",
              "\n",
              "    .dataframe tbody tr th {\n",
              "        vertical-align: top;\n",
              "    }\n",
              "\n",
              "    .dataframe thead th {\n",
              "        text-align: right;\n",
              "    }\n",
              "</style>\n",
              "<table border=\"1\" class=\"dataframe\">\n",
              "  <thead>\n",
              "    <tr style=\"text-align: right;\">\n",
              "      <th></th>\n",
              "      <th>PatientID</th>\n",
              "      <th>Gender</th>\n",
              "      <th>ScheduledDay</th>\n",
              "      <th>AppointmentDay</th>\n",
              "      <th>Age</th>\n",
              "      <th>Neighbourhood</th>\n",
              "      <th>Scholarship</th>\n",
              "      <th>Hypertension</th>\n",
              "      <th>Diabetes</th>\n",
              "      <th>Alcoholism</th>\n",
              "      <th>Handicap</th>\n",
              "      <th>SMSReceived</th>\n",
              "      <th>NoShow</th>\n",
              "    </tr>\n",
              "    <tr>\n",
              "      <th>AppointmentID</th>\n",
              "      <th></th>\n",
              "      <th></th>\n",
              "      <th></th>\n",
              "      <th></th>\n",
              "      <th></th>\n",
              "      <th></th>\n",
              "      <th></th>\n",
              "      <th></th>\n",
              "      <th></th>\n",
              "      <th></th>\n",
              "      <th></th>\n",
              "      <th></th>\n",
              "      <th></th>\n",
              "    </tr>\n",
              "  </thead>\n",
              "  <tbody>\n",
              "    <tr>\n",
              "      <th>5642903</th>\n",
              "      <td>2.987250e+13</td>\n",
              "      <td>F</td>\n",
              "      <td>2016-04-29 18:38:08+00:00</td>\n",
              "      <td>2016-04-29 00:00:00+00:00</td>\n",
              "      <td>62</td>\n",
              "      <td>JARDIM DA PENHA</td>\n",
              "      <td>0</td>\n",
              "      <td>1</td>\n",
              "      <td>0</td>\n",
              "      <td>0</td>\n",
              "      <td>0</td>\n",
              "      <td>0</td>\n",
              "      <td>0</td>\n",
              "    </tr>\n",
              "    <tr>\n",
              "      <th>5642503</th>\n",
              "      <td>5.589978e+14</td>\n",
              "      <td>M</td>\n",
              "      <td>2016-04-29 16:08:27+00:00</td>\n",
              "      <td>2016-04-29 00:00:00+00:00</td>\n",
              "      <td>56</td>\n",
              "      <td>JARDIM DA PENHA</td>\n",
              "      <td>0</td>\n",
              "      <td>0</td>\n",
              "      <td>0</td>\n",
              "      <td>0</td>\n",
              "      <td>0</td>\n",
              "      <td>0</td>\n",
              "      <td>0</td>\n",
              "    </tr>\n",
              "    <tr>\n",
              "      <th>5642549</th>\n",
              "      <td>4.262962e+12</td>\n",
              "      <td>F</td>\n",
              "      <td>2016-04-29 16:19:04+00:00</td>\n",
              "      <td>2016-04-29 00:00:00+00:00</td>\n",
              "      <td>62</td>\n",
              "      <td>MATA DA PRAIA</td>\n",
              "      <td>0</td>\n",
              "      <td>0</td>\n",
              "      <td>0</td>\n",
              "      <td>0</td>\n",
              "      <td>0</td>\n",
              "      <td>0</td>\n",
              "      <td>0</td>\n",
              "    </tr>\n",
              "    <tr>\n",
              "      <th>5642828</th>\n",
              "      <td>8.679512e+11</td>\n",
              "      <td>F</td>\n",
              "      <td>2016-04-29 17:29:31+00:00</td>\n",
              "      <td>2016-04-29 00:00:00+00:00</td>\n",
              "      <td>8</td>\n",
              "      <td>PONTAL DE CAMBURI</td>\n",
              "      <td>0</td>\n",
              "      <td>0</td>\n",
              "      <td>0</td>\n",
              "      <td>0</td>\n",
              "      <td>0</td>\n",
              "      <td>0</td>\n",
              "      <td>0</td>\n",
              "    </tr>\n",
              "    <tr>\n",
              "      <th>5642494</th>\n",
              "      <td>8.841186e+12</td>\n",
              "      <td>F</td>\n",
              "      <td>2016-04-29 16:07:23+00:00</td>\n",
              "      <td>2016-04-29 00:00:00+00:00</td>\n",
              "      <td>56</td>\n",
              "      <td>JARDIM DA PENHA</td>\n",
              "      <td>0</td>\n",
              "      <td>1</td>\n",
              "      <td>1</td>\n",
              "      <td>0</td>\n",
              "      <td>0</td>\n",
              "      <td>0</td>\n",
              "      <td>0</td>\n",
              "    </tr>\n",
              "  </tbody>\n",
              "</table>\n",
              "</div>"
            ],
            "text/plain": [
              "                  PatientID Gender  ... SMSReceived NoShow\n",
              "AppointmentID                       ...                   \n",
              "5642903        2.987250e+13      F  ...           0      0\n",
              "5642503        5.589978e+14      M  ...           0      0\n",
              "5642549        4.262962e+12      F  ...           0      0\n",
              "5642828        8.679512e+11      F  ...           0      0\n",
              "5642494        8.841186e+12      F  ...           0      0\n",
              "\n",
              "[5 rows x 13 columns]"
            ]
          },
          "metadata": {},
          "execution_count": 84
        }
      ]
    },
    {
      "cell_type": "code",
      "metadata": {
        "colab": {
          "base_uri": "https://localhost:8080/"
        },
        "id": "3yMbBZr_MG8b",
        "outputId": "25833368-fcca-41fc-b567-3ff2682f77f2"
      },
      "source": [
        "# It is hard to tell because there are so many different neighbourhoods,\n",
        "# but it seems like there are no misspellings of the neighbourhoods or \n",
        "# in the gender column\n",
        "\n",
        "print(doc_df['Gender'].value_counts())\n",
        "print('\\n\\n\\n',doc_df['Neighbourhood'].value_counts())"
      ],
      "execution_count": 85,
      "outputs": [
        {
          "output_type": "stream",
          "text": [
            "F    71840\n",
            "M    38687\n",
            "Name: Gender, dtype: int64\n",
            "\n",
            "\n",
            "\n",
            " JARDIM CAMBURI                 7717\n",
            "MARIA ORTIZ                    5805\n",
            "RESISTÊNCIA                    4431\n",
            "JARDIM DA PENHA                3877\n",
            "ITARARÉ                        3514\n",
            "                               ... \n",
            "ILHA DO BOI                      35\n",
            "ILHA DO FRADE                    10\n",
            "AEROPORTO                         8\n",
            "ILHAS OCEÂNICAS DE TRINDADE       2\n",
            "PARQUE INDUSTRIAL                 1\n",
            "Name: Neighbourhood, Length: 81, dtype: int64\n"
          ],
          "name": "stdout"
        }
      ]
    },
    {
      "cell_type": "markdown",
      "metadata": {
        "id": "GzAGdgybxPPH"
      },
      "source": [
        "# Visualizations to understand the data better and further cleaning"
      ]
    },
    {
      "cell_type": "code",
      "metadata": {
        "colab": {
          "base_uri": "https://localhost:8080/",
          "height": 295
        },
        "id": "49U-PN-mNsYC",
        "outputId": "5c20817d-865d-4e2b-a932-0beb91e17f28"
      },
      "source": [
        "doc_df['Age'].hist()\n",
        "plt.title('Ages histogram')\n",
        "plt.xlabel('Age')\n",
        "plt.ylabel('Number of instances');"
      ],
      "execution_count": 86,
      "outputs": [
        {
          "output_type": "display_data",
          "data": {
            "image/png": "[encoded data removed]",
            "text/plain": [
              "<Figure size 432x288 with 1 Axes>"
            ]
          },
          "metadata": {
            "needs_background": "light"
          }
        }
      ]
    },
    {
      "cell_type": "code",
      "metadata": {
        "colab": {
          "base_uri": "https://localhost:8080/"
        },
        "id": "NDtiLuHjQtqB",
        "outputId": "b00efed0-996c-4dde-cfed-e7edbb9a1e0b"
      },
      "source": [
        "print(min(doc_df['Age']))\n",
        "print(max(doc_df['Age']))"
      ],
      "execution_count": 87,
      "outputs": [
        {
          "output_type": "stream",
          "text": [
            "-1\n",
            "115\n"
          ],
          "name": "stdout"
        }
      ]
    },
    {
      "cell_type": "code",
      "metadata": {
        "colab": {
          "base_uri": "https://localhost:8080/"
        },
        "id": "4WcHop0SQxWe",
        "outputId": "676eade6-54db-4fc1-ae4b-4a61f0724691"
      },
      "source": [
        "# there is only 1 -1 value, it might be worth removing it.\n",
        "# All the other ages make sense; having an age of 0 means its a newborn\n",
        "# and out of so many patients it is expected there are patients over 100,\n",
        "# also patients could schedule more than one appointment\n",
        "doc_df['Age'].value_counts()"
      ],
      "execution_count": 88,
      "outputs": [
        {
          "output_type": "execute_result",
          "data": {
            "text/plain": [
              " 0      3539\n",
              " 1      2273\n",
              " 52     1746\n",
              " 49     1652\n",
              " 53     1651\n",
              "        ... \n",
              " 115       5\n",
              " 100       4\n",
              " 102       2\n",
              " 99        1\n",
              "-1         1\n",
              "Name: Age, Length: 104, dtype: int64"
            ]
          },
          "metadata": {},
          "execution_count": 88
        }
      ]
    },
    {
      "cell_type": "code",
      "metadata": {
        "colab": {
          "base_uri": "https://localhost:8080/"
        },
        "id": "NOMoizJYRCOI",
        "outputId": "ab08d67e-aaae-4cd6-f0af-1de13e52bb29"
      },
      "source": [
        "# Succesfully dropped row\n",
        "doc_df.drop(doc_df[doc_df['Age']==-1].index.tolist(),inplace=True)\n",
        "min(doc_df['Age'])"
      ],
      "execution_count": 89,
      "outputs": [
        {
          "output_type": "execute_result",
          "data": {
            "text/plain": [
              "0"
            ]
          },
          "metadata": {},
          "execution_count": 89
        }
      ]
    },
    {
      "cell_type": "code",
      "metadata": {
        "colab": {
          "base_uri": "https://localhost:8080/"
        },
        "id": "qxkXa0kpa439",
        "outputId": "8d7478ce-34eb-48a9-c059-05ee56aa28c3"
      },
      "source": [
        "# This seemingly does not make sense, but when realizing that the time\n",
        "# of AppointmentDay is set to the start of the day, it is expected...\n",
        "# all the times that an appointment is set the same day, this argument will be true\n",
        "\n",
        "(doc_df['AppointmentDay'] < doc_df['ScheduledDay']).sum()"
      ],
      "execution_count": 90,
      "outputs": [
        {
          "output_type": "execute_result",
          "data": {
            "text/plain": [
              "38567"
            ]
          },
          "metadata": {},
          "execution_count": 90
        }
      ]
    },
    {
      "cell_type": "code",
      "metadata": {
        "id": "VoVwFAQob6SQ"
      },
      "source": [
        "# to fix this, I will set the AppointmentDay to the end of the day.\n",
        "# I'm not sure if this would change anything, but it makes more sense for the data\n",
        "# Code from: https://towardsdatascience.com/machine-learning-with-datetime-feature-engineering-predicting-healthcare-appointment-no-shows-5e4ca3a85f96\n",
        "\n",
        "doc_df['AppointmentDay'] = doc_df['AppointmentDay'] + pd.Timedelta('1d') - pd.Timedelta('1s')"
      ],
      "execution_count": 91,
      "outputs": []
    },
    {
      "cell_type": "code",
      "metadata": {
        "colab": {
          "base_uri": "https://localhost:8080/"
        },
        "id": "PgIpaWDWc4G4",
        "outputId": "879fb20a-f67d-4504-b33c-e6f29ede8f9b"
      },
      "source": [
        "# Now we know there are 5 rows that simply don't make sense. I will drop these rows\n",
        "# https://towardsdatascience.com/machine-learning-with-datetime-feature-engineering-predicting-healthcare-appointment-no-shows-5e4ca3a85f96\n",
        "\n",
        "print((doc_df['AppointmentDay'] < doc_df['ScheduledDay']).sum())\n",
        "doc_df = doc_df.loc[doc_df['AppointmentDay'] >= doc_df['ScheduledDay'],:].copy()"
      ],
      "execution_count": 92,
      "outputs": [
        {
          "output_type": "stream",
          "text": [
            "5\n"
          ],
          "name": "stdout"
        }
      ]
    },
    {
      "cell_type": "code",
      "metadata": {
        "id": "IGeB5bpLfBsD"
      },
      "source": [
        "# Now we might want to consider feature engineering using the datetime\n",
        "# objects, using them raw is not an option\n",
        "# Because the dataset only spans a few months of a single year, we can't\n",
        "# use the year, week of the year or day of the year as a feature.\n",
        "# I believe the best course of action would be to use the day of the week\n",
        "# as a feature for both dt columns\n",
        "\n",
        "doc_df['AppointmentDay_dayofweek'] = doc_df['AppointmentDay'].dt.dayofweek\n",
        "doc_df['ScheduledDay_dayofweek'] = doc_df['ScheduledDay'].dt.dayofweek"
      ],
      "execution_count": 93,
      "outputs": []
    },
    {
      "cell_type": "code",
      "metadata": {
        "id": "pCatFRVDY2iT"
      },
      "source": [
        "NoShow_filter = (doc_df['NoShow'] == 1)"
      ],
      "execution_count": 94,
      "outputs": []
    },
    {
      "cell_type": "code",
      "metadata": {
        "colab": {
          "base_uri": "https://localhost:8080/"
        },
        "id": "FRRQd84MXyNf",
        "outputId": "770b26d3-9b14-4953-b9b3-a8ecede164c9"
      },
      "source": [
        "NoShow_filter.sum()\n",
        "doc_df['NoShow'].sum()"
      ],
      "execution_count": 95,
      "outputs": [
        {
          "output_type": "execute_result",
          "data": {
            "text/plain": [
              "22314"
            ]
          },
          "metadata": {},
          "execution_count": 95
        }
      ]
    },
    {
      "cell_type": "code",
      "metadata": {
        "colab": {
          "base_uri": "https://localhost:8080/",
          "height": 282
        },
        "id": "C5_dzneboEUw",
        "outputId": "0c11ca1f-b67b-41ff-8643-e02c8217cc50"
      },
      "source": [
        "print(doc_df['Age'][NoShow_filter].mean())\n",
        "doc_df['Age'][NoShow_filter].hist();"
      ],
      "execution_count": 96,
      "outputs": [
        {
          "output_type": "stream",
          "text": [
            "34.31787218786412\n"
          ],
          "name": "stdout"
        },
        {
          "output_type": "display_data",
          "data": {
            "image/png": "[encoded data removed]",
            "text/plain": [
              "<Figure size 432x288 with 1 Axes>"
            ]
          },
          "metadata": {
            "needs_background": "light"
          }
        }
      ]
    },
    {
      "cell_type": "code",
      "metadata": {
        "colab": {
          "base_uri": "https://localhost:8080/",
          "height": 282
        },
        "id": "ait74zskoc1S",
        "outputId": "6f2b0c5c-cfa2-45c8-bc11-0b074360e218"
      },
      "source": [
        "print(doc_df['Age'][~NoShow_filter].mean())\n",
        "doc_df['Age'][~NoShow_filter].hist();"
      ],
      "execution_count": 97,
      "outputs": [
        {
          "output_type": "stream",
          "text": [
            "37.790504154999034\n"
          ],
          "name": "stdout"
        },
        {
          "output_type": "display_data",
          "data": {
            "image/png": "[encoded data removed]",
            "text/plain": [
              "<Figure size 432x288 with 1 Axes>"
            ]
          },
          "metadata": {
            "needs_background": "light"
          }
        }
      ]
    },
    {
      "cell_type": "markdown",
      "metadata": {
        "id": "x_tEqT4tq6CO"
      },
      "source": [
        "The distributions look similar, with those that did attend the appointment having a slightly higher mean age (37.8 vs. 34.3)"
      ]
    },
    {
      "cell_type": "code",
      "metadata": {
        "colab": {
          "base_uri": "https://localhost:8080/",
          "height": 281
        },
        "id": "QRMfIzs-qp53",
        "outputId": "a6e35965-f687-43c9-83da-e42c5cbc7f25"
      },
      "source": [
        "Scholarship_mean_list = [doc_df['Scholarship'][NoShow_filter].mean(), doc_df['Scholarship'][~NoShow_filter].mean()]\n",
        "plt.bar(['Missed Appointment', 'Attended Appointment'],Scholarship_mean_list)\n",
        "plt.title('Scholarship and No-show')\n",
        "plt.ylabel('Percentage that have a scholarship');"
      ],
      "execution_count": 114,
      "outputs": [
        {
          "output_type": "display_data",
          "data": {
            "image/png": "[encoded data removed]",
            "text/plain": [
              "<Figure size 432x288 with 1 Axes>"
            ]
          },
          "metadata": {
            "needs_background": "light"
          }
        }
      ]
    },
    {
      "cell_type": "markdown",
      "metadata": {
        "id": "A7yIrkT7sYOL"
      },
      "source": [
        "It is more likely that a person who missed the appointment has a scholarship."
      ]
    },
    {
      "cell_type": "code",
      "metadata": {
        "colab": {
          "base_uri": "https://localhost:8080/",
          "height": 281
        },
        "id": "abFU-tP7qxCt",
        "outputId": "5545d1a7-c290-4f4b-9b4d-461e9806746e"
      },
      "source": [
        "Hypertension_mean_list = [doc_df['Hypertension'][NoShow_filter].mean(), doc_df['Hypertension'][~NoShow_filter].mean()]\n",
        "plt.bar(['Missed Appointment', 'Attended Appointment'],Hypertension_mean_list)\n",
        "plt.title('Hypertension and No-show')\n",
        "plt.ylabel('Percentage that have hypertension');"
      ],
      "execution_count": 115,
      "outputs": [
        {
          "output_type": "display_data",
          "data": {
            "image/png": "[encoded data removed]",
            "text/plain": [
              "<Figure size 432x288 with 1 Axes>"
            ]
          },
          "metadata": {
            "needs_background": "light"
          }
        }
      ]
    },
    {
      "cell_type": "markdown",
      "metadata": {
        "id": "-nJZNhV0t6er"
      },
      "source": [
        "There is a difference between the two"
      ]
    },
    {
      "cell_type": "code",
      "metadata": {
        "colab": {
          "base_uri": "https://localhost:8080/",
          "height": 281
        },
        "id": "5h1qEE9htLue",
        "outputId": "98885621-8212-4b5d-f397-8fe8768f85fc"
      },
      "source": [
        "Alcoholism_mean_list = [doc_df['Alcoholism'][NoShow_filter].mean(), doc_df['Alcoholism'][~NoShow_filter].mean()]\n",
        "plt.bar(['Missed Appointment', 'Attended Appointment'],Alcoholism_mean_list)\n",
        "plt.title('Alcoholism and No-show')\n",
        "plt.ylabel('Percentage that have alcoholism');"
      ],
      "execution_count": 116,
      "outputs": [
        {
          "output_type": "display_data",
          "data": {
            "image/png": "[encoded data removed]",
            "text/plain": [
              "<Figure size 432x288 with 1 Axes>"
            ]
          },
          "metadata": {
            "needs_background": "light"
          }
        }
      ]
    },
    {
      "cell_type": "markdown",
      "metadata": {
        "id": "U0vBtg-BtmJa"
      },
      "source": [
        "There seems to be nearly no difference between them"
      ]
    },
    {
      "cell_type": "code",
      "metadata": {
        "colab": {
          "base_uri": "https://localhost:8080/",
          "height": 281
        },
        "id": "INWxloUpXn8a",
        "outputId": "cc3ebb2b-e2fc-4e99-8e34-3df9da39d360"
      },
      "source": [
        "SMSReceived_mean_list = [doc_df['SMSReceived'][NoShow_filter].mean(), doc_df['SMSReceived'][~NoShow_filter].mean()]\n",
        "plt.bar(['Missed Appointment', 'Attended Appointment'],SMSReceived_mean_list)\n",
        "plt.title('SMSReceived and No-show')\n",
        "plt.ylabel('Percentage that received a SMS');"
      ],
      "execution_count": 117,
      "outputs": [
        {
          "output_type": "display_data",
          "data": {
            "image/png": "[encoded data removed]",
            "text/plain": [
              "<Figure size 432x288 with 1 Axes>"
            ]
          },
          "metadata": {
            "needs_background": "light"
          }
        }
      ]
    },
    {
      "cell_type": "markdown",
      "metadata": {
        "id": "eXPFLW1eX1__"
      },
      "source": [
        "Apparently, more often than to those than would attend their appointment, those that were going to miss the appointment were reminded by SMS."
      ]
    },
    {
      "cell_type": "markdown",
      "metadata": {
        "id": "szlmLNZQxcAQ"
      },
      "source": [
        "# Prepare data for Machine Learning"
      ]
    },
    {
      "cell_type": "code",
      "metadata": {
        "colab": {
          "base_uri": "https://localhost:8080/",
          "height": 147
        },
        "id": "wNIvXIAfWUHE",
        "outputId": "e2ed2206-d128-47f4-9f17-7b84c926b202"
      },
      "source": [
        "doc_df.head(1)"
      ],
      "execution_count": 102,
      "outputs": [
        {
          "output_type": "execute_result",
          "data": {
            "text/html": [
              "<div>\n",
              "<style scoped>\n",
              "    .dataframe tbody tr th:only-of-type {\n",
              "        vertical-align: middle;\n",
              "    }\n",
              "\n",
              "    .dataframe tbody tr th {\n",
              "        vertical-align: top;\n",
              "    }\n",
              "\n",
              "    .dataframe thead th {\n",
              "        text-align: right;\n",
              "    }\n",
              "</style>\n",
              "<table border=\"1\" class=\"dataframe\">\n",
              "  <thead>\n",
              "    <tr style=\"text-align: right;\">\n",
              "      <th></th>\n",
              "      <th>PatientID</th>\n",
              "      <th>Gender</th>\n",
              "      <th>ScheduledDay</th>\n",
              "      <th>AppointmentDay</th>\n",
              "      <th>Age</th>\n",
              "      <th>Neighbourhood</th>\n",
              "      <th>Scholarship</th>\n",
              "      <th>Hypertension</th>\n",
              "      <th>Diabetes</th>\n",
              "      <th>Alcoholism</th>\n",
              "      <th>Handicap</th>\n",
              "      <th>SMSReceived</th>\n",
              "      <th>NoShow</th>\n",
              "      <th>AppointmentDay_dayofweek</th>\n",
              "      <th>ScheduledDay_dayofweek</th>\n",
              "    </tr>\n",
              "    <tr>\n",
              "      <th>AppointmentID</th>\n",
              "      <th></th>\n",
              "      <th></th>\n",
              "      <th></th>\n",
              "      <th></th>\n",
              "      <th></th>\n",
              "      <th></th>\n",
              "      <th></th>\n",
              "      <th></th>\n",
              "      <th></th>\n",
              "      <th></th>\n",
              "      <th></th>\n",
              "      <th></th>\n",
              "      <th></th>\n",
              "      <th></th>\n",
              "      <th></th>\n",
              "    </tr>\n",
              "  </thead>\n",
              "  <tbody>\n",
              "    <tr>\n",
              "      <th>5642903</th>\n",
              "      <td>2.987250e+13</td>\n",
              "      <td>F</td>\n",
              "      <td>2016-04-29 18:38:08+00:00</td>\n",
              "      <td>2016-04-29 23:59:59+00:00</td>\n",
              "      <td>62</td>\n",
              "      <td>JARDIM DA PENHA</td>\n",
              "      <td>0</td>\n",
              "      <td>1</td>\n",
              "      <td>0</td>\n",
              "      <td>0</td>\n",
              "      <td>0</td>\n",
              "      <td>0</td>\n",
              "      <td>0</td>\n",
              "      <td>4</td>\n",
              "      <td>4</td>\n",
              "    </tr>\n",
              "  </tbody>\n",
              "</table>\n",
              "</div>"
            ],
            "text/plain": [
              "                  PatientID  ... ScheduledDay_dayofweek\n",
              "AppointmentID                ...                       \n",
              "5642903        2.987250e+13  ...                      4\n",
              "\n",
              "[1 rows x 15 columns]"
            ]
          },
          "metadata": {},
          "execution_count": 102
        }
      ]
    },
    {
      "cell_type": "code",
      "metadata": {
        "id": "g-ehdNivXmWe"
      },
      "source": [
        "# Trying out dropping the neighbourhood column because there are a lot of neighbourhoods\n",
        "# and it slows down fitting, without necessarily meaning a better score.\n",
        "X = doc_df.drop(columns=['PatientID', 'ScheduledDay', 'AppointmentDay','NoShow', 'Neighbourhood'])\n",
        "\n",
        "X = pd.get_dummies(X,columns=['Gender'],drop_first=True)\n",
        "# X = pd.get_dummies(X,columns=['Neighbourhood'])"
      ],
      "execution_count": 103,
      "outputs": []
    },
    {
      "cell_type": "code",
      "metadata": {
        "colab": {
          "base_uri": "https://localhost:8080/",
          "height": 110
        },
        "id": "BUCl9ke0Ut-q",
        "outputId": "011b5fb1-1d30-4c3f-cd15-9b947ad4e96b"
      },
      "source": [
        "X.head(1)"
      ],
      "execution_count": 104,
      "outputs": [
        {
          "output_type": "execute_result",
          "data": {
            "text/html": [
              "<div>\n",
              "<style scoped>\n",
              "    .dataframe tbody tr th:only-of-type {\n",
              "        vertical-align: middle;\n",
              "    }\n",
              "\n",
              "    .dataframe tbody tr th {\n",
              "        vertical-align: top;\n",
              "    }\n",
              "\n",
              "    .dataframe thead th {\n",
              "        text-align: right;\n",
              "    }\n",
              "</style>\n",
              "<table border=\"1\" class=\"dataframe\">\n",
              "  <thead>\n",
              "    <tr style=\"text-align: right;\">\n",
              "      <th></th>\n",
              "      <th>Age</th>\n",
              "      <th>Scholarship</th>\n",
              "      <th>Hypertension</th>\n",
              "      <th>Diabetes</th>\n",
              "      <th>Alcoholism</th>\n",
              "      <th>Handicap</th>\n",
              "      <th>SMSReceived</th>\n",
              "      <th>AppointmentDay_dayofweek</th>\n",
              "      <th>ScheduledDay_dayofweek</th>\n",
              "      <th>Gender_M</th>\n",
              "    </tr>\n",
              "    <tr>\n",
              "      <th>AppointmentID</th>\n",
              "      <th></th>\n",
              "      <th></th>\n",
              "      <th></th>\n",
              "      <th></th>\n",
              "      <th></th>\n",
              "      <th></th>\n",
              "      <th></th>\n",
              "      <th></th>\n",
              "      <th></th>\n",
              "      <th></th>\n",
              "    </tr>\n",
              "  </thead>\n",
              "  <tbody>\n",
              "    <tr>\n",
              "      <th>5642903</th>\n",
              "      <td>62</td>\n",
              "      <td>0</td>\n",
              "      <td>1</td>\n",
              "      <td>0</td>\n",
              "      <td>0</td>\n",
              "      <td>0</td>\n",
              "      <td>0</td>\n",
              "      <td>4</td>\n",
              "      <td>4</td>\n",
              "      <td>0</td>\n",
              "    </tr>\n",
              "  </tbody>\n",
              "</table>\n",
              "</div>"
            ],
            "text/plain": [
              "               Age  Scholarship  ...  ScheduledDay_dayofweek  Gender_M\n",
              "AppointmentID                    ...                                  \n",
              "5642903         62            0  ...                       4         0\n",
              "\n",
              "[1 rows x 10 columns]"
            ]
          },
          "metadata": {},
          "execution_count": 104
        }
      ]
    },
    {
      "cell_type": "code",
      "metadata": {
        "colab": {
          "base_uri": "https://localhost:8080/"
        },
        "id": "1uBX5ILPUt1V",
        "outputId": "a29bf90e-80b2-4a3c-e29c-892d7c01b7d7"
      },
      "source": [
        "print(X['AppointmentDay_dayofweek'].value_counts())\n",
        "print(X['ScheduledDay_dayofweek'].value_counts())"
      ],
      "execution_count": 105,
      "outputs": [
        {
          "output_type": "stream",
          "text": [
            "2    25866\n",
            "1    25638\n",
            "0    22713\n",
            "4    19019\n",
            "3    17246\n",
            "5       39\n",
            "Name: AppointmentDay_dayofweek, dtype: int64\n",
            "1    26167\n",
            "2    24259\n",
            "0    23084\n",
            "4    18915\n",
            "3    18072\n",
            "5       24\n",
            "Name: ScheduledDay_dayofweek, dtype: int64\n"
          ],
          "name": "stdout"
        }
      ]
    },
    {
      "cell_type": "code",
      "metadata": {
        "id": "XD9_M2djdJxa"
      },
      "source": [
        "X = pd.get_dummies(X,columns=['AppointmentDay_dayofweek','ScheduledDay_dayofweek'])"
      ],
      "execution_count": 106,
      "outputs": []
    },
    {
      "cell_type": "code",
      "metadata": {
        "colab": {
          "base_uri": "https://localhost:8080/",
          "height": 130
        },
        "id": "GpJIAN0meRgK",
        "outputId": "41d1a286-36ed-4b2d-9b7d-125ddf7a73bd"
      },
      "source": [
        "X.head(1)"
      ],
      "execution_count": 107,
      "outputs": [
        {
          "output_type": "execute_result",
          "data": {
            "text/html": [
              "<div>\n",
              "<style scoped>\n",
              "    .dataframe tbody tr th:only-of-type {\n",
              "        vertical-align: middle;\n",
              "    }\n",
              "\n",
              "    .dataframe tbody tr th {\n",
              "        vertical-align: top;\n",
              "    }\n",
              "\n",
              "    .dataframe thead th {\n",
              "        text-align: right;\n",
              "    }\n",
              "</style>\n",
              "<table border=\"1\" class=\"dataframe\">\n",
              "  <thead>\n",
              "    <tr style=\"text-align: right;\">\n",
              "      <th></th>\n",
              "      <th>Age</th>\n",
              "      <th>Scholarship</th>\n",
              "      <th>Hypertension</th>\n",
              "      <th>Diabetes</th>\n",
              "      <th>Alcoholism</th>\n",
              "      <th>Handicap</th>\n",
              "      <th>SMSReceived</th>\n",
              "      <th>Gender_M</th>\n",
              "      <th>AppointmentDay_dayofweek_0</th>\n",
              "      <th>AppointmentDay_dayofweek_1</th>\n",
              "      <th>AppointmentDay_dayofweek_2</th>\n",
              "      <th>AppointmentDay_dayofweek_3</th>\n",
              "      <th>AppointmentDay_dayofweek_4</th>\n",
              "      <th>AppointmentDay_dayofweek_5</th>\n",
              "      <th>ScheduledDay_dayofweek_0</th>\n",
              "      <th>ScheduledDay_dayofweek_1</th>\n",
              "      <th>ScheduledDay_dayofweek_2</th>\n",
              "      <th>ScheduledDay_dayofweek_3</th>\n",
              "      <th>ScheduledDay_dayofweek_4</th>\n",
              "      <th>ScheduledDay_dayofweek_5</th>\n",
              "    </tr>\n",
              "    <tr>\n",
              "      <th>AppointmentID</th>\n",
              "      <th></th>\n",
              "      <th></th>\n",
              "      <th></th>\n",
              "      <th></th>\n",
              "      <th></th>\n",
              "      <th></th>\n",
              "      <th></th>\n",
              "      <th></th>\n",
              "      <th></th>\n",
              "      <th></th>\n",
              "      <th></th>\n",
              "      <th></th>\n",
              "      <th></th>\n",
              "      <th></th>\n",
              "      <th></th>\n",
              "      <th></th>\n",
              "      <th></th>\n",
              "      <th></th>\n",
              "      <th></th>\n",
              "      <th></th>\n",
              "    </tr>\n",
              "  </thead>\n",
              "  <tbody>\n",
              "    <tr>\n",
              "      <th>5642903</th>\n",
              "      <td>62</td>\n",
              "      <td>0</td>\n",
              "      <td>1</td>\n",
              "      <td>0</td>\n",
              "      <td>0</td>\n",
              "      <td>0</td>\n",
              "      <td>0</td>\n",
              "      <td>0</td>\n",
              "      <td>0</td>\n",
              "      <td>0</td>\n",
              "      <td>0</td>\n",
              "      <td>0</td>\n",
              "      <td>1</td>\n",
              "      <td>0</td>\n",
              "      <td>0</td>\n",
              "      <td>0</td>\n",
              "      <td>0</td>\n",
              "      <td>0</td>\n",
              "      <td>1</td>\n",
              "      <td>0</td>\n",
              "    </tr>\n",
              "  </tbody>\n",
              "</table>\n",
              "</div>"
            ],
            "text/plain": [
              "               Age  ...  ScheduledDay_dayofweek_5\n",
              "AppointmentID       ...                          \n",
              "5642903         62  ...                         0\n",
              "\n",
              "[1 rows x 20 columns]"
            ]
          },
          "metadata": {},
          "execution_count": 107
        }
      ]
    },
    {
      "cell_type": "code",
      "metadata": {
        "id": "eE5xW-SelZgJ"
      },
      "source": [
        "y = doc_df['NoShow']"
      ],
      "execution_count": 108,
      "outputs": []
    },
    {
      "cell_type": "code",
      "metadata": {
        "id": "Qq8x7v60tWxV"
      },
      "source": [
        "from sklearn.preprocessing import StandardScaler\n",
        "\n",
        "scaler = StandardScaler()\n",
        "scaled_df = scaler.fit_transform(X)"
      ],
      "execution_count": 109,
      "outputs": []
    },
    {
      "cell_type": "markdown",
      "metadata": {
        "id": "1YvytelCBoL8"
      },
      "source": [
        "# Further feature engineering"
      ]
    },
    {
      "cell_type": "code",
      "metadata": {
        "id": "Q4SglUAUBrHL"
      },
      "source": [
        "# From here: https://towardsdatascience.com/feature-engineering-of-datetime-variables-for-data-science-machine-learning-45e611c632ad\n",
        "# idea on feature engineering, where I will look at the time difference between ScheduledDay and AppointmentDay\n",
        "# https://stackoverflow.com/questions/1345827/how-do-i-find-the-time-difference-between-two-datetime-objects-in-python\n",
        "\n",
        "duration = doc_df['AppointmentDay'] - doc_df['ScheduledDay']\n",
        "mylist = []\n",
        "for thing in duration:\n",
        "  duration_in_s = thing.total_seconds()\n",
        "  mylist = mylist + [divmod(duration_in_s, 86400)[0]]"
      ],
      "execution_count": 110,
      "outputs": []
    },
    {
      "cell_type": "code",
      "metadata": {
        "id": "NpA79yEYJqUg"
      },
      "source": [
        "# Adding the difference in days as a feature in the X matrix \n",
        "X['DifferenceSchedApp'] = mylist"
      ],
      "execution_count": 111,
      "outputs": []
    },
    {
      "cell_type": "code",
      "metadata": {
        "colab": {
          "base_uri": "https://localhost:8080/"
        },
        "id": "Gg5NKGV4gQ_u",
        "outputId": "f37c71b1-3fc6-4e3e-d862-504e32a1f086"
      },
      "source": [
        "import statistics as stats\n",
        "stats.median(mylist)"
      ],
      "execution_count": 124,
      "outputs": [
        {
          "output_type": "execute_result",
          "data": {
            "text/plain": [
              "4.0"
            ]
          },
          "metadata": {},
          "execution_count": 124
        }
      ]
    },
    {
      "cell_type": "code",
      "metadata": {
        "id": "EzZuJCa6gQxy"
      },
      "source": [
        "diff_filter = X['DifferenceSchedApp']>4"
      ],
      "execution_count": 125,
      "outputs": []
    },
    {
      "cell_type": "code",
      "metadata": {
        "colab": {
          "base_uri": "https://localhost:8080/"
        },
        "id": "XfunV7KcgwZe",
        "outputId": "c69ed32f-0f86-435b-d075-0a8c814fae23"
      },
      "source": [
        "doc_df['NoShow'][diff_filter].mean()"
      ],
      "execution_count": 127,
      "outputs": [
        {
          "output_type": "execute_result",
          "data": {
            "text/plain": [
              "0.30641997153517714"
            ]
          },
          "metadata": {},
          "execution_count": 127
        }
      ]
    },
    {
      "cell_type": "code",
      "metadata": {
        "colab": {
          "base_uri": "https://localhost:8080/"
        },
        "id": "kOF1ppgbg911",
        "outputId": "8520c301-392f-45bd-e301-2f6ce6a8064e"
      },
      "source": [
        "doc_df['NoShow'][~diff_filter].mean()"
      ],
      "execution_count": 128,
      "outputs": [
        {
          "output_type": "execute_result",
          "data": {
            "text/plain": [
              "0.10904368923744596"
            ]
          },
          "metadata": {},
          "execution_count": 128
        }
      ]
    },
    {
      "cell_type": "code",
      "metadata": {
        "colab": {
          "base_uri": "https://localhost:8080/",
          "height": 281
        },
        "id": "V3mXfbSnhEZ9",
        "outputId": "02950529-6499-490a-8b07-148aeb93af24"
      },
      "source": [
        "# Unexpectedly, it seems like with a large delay, there is a smaller chance to miss the appointment.\n",
        "mean_list = [doc_df['NoShow'][diff_filter].mean(), doc_df['NoShow'][~diff_filter].mean()]\n",
        "plt.bar(['Small delay', 'Large delay'],mean_list)\n",
        "plt.title('No-show based on delay between Sched. and App.')\n",
        "plt.ylabel('Percentage that did not attend');"
      ],
      "execution_count": 129,
      "outputs": [
        {
          "output_type": "display_data",
          "data": {
            "image/png": "[encoded data removed]",
            "text/plain": [
              "<Figure size 432x288 with 1 Axes>"
            ]
          },
          "metadata": {
            "needs_background": "light"
          }
        }
      ]
    },
    {
      "cell_type": "markdown",
      "metadata": {
        "id": "YmyNgAf73zBj"
      },
      "source": [
        "# Further visualizations"
      ]
    },
    {
      "cell_type": "code",
      "metadata": {
        "id": "E8jtl5cY32qu"
      },
      "source": [
        "import plotly.express as px\n",
        "# fig = px.imshow()\n",
        "# fig.show()"
      ],
      "execution_count": 45,
      "outputs": []
    },
    {
      "cell_type": "markdown",
      "metadata": {
        "id": "deHBAbEvxt5k"
      },
      "source": [
        "# Machine Learning models"
      ]
    },
    {
      "cell_type": "code",
      "metadata": {
        "id": "SszGIbSwKbgI"
      },
      "source": [
        "from sklearn.model_selection import train_test_split\n",
        "X_train, X_test, y_train, y_test = train_test_split(X,y)"
      ],
      "execution_count": 112,
      "outputs": []
    },
    {
      "cell_type": "code",
      "metadata": {
        "colab": {
          "base_uri": "https://localhost:8080/"
        },
        "id": "HvkNAnVt0Oy8",
        "outputId": "04f04fbc-d6b2-4689-a589-391abeccb277"
      },
      "source": [
        "# Any model with an accuracy below 79.8% will be worse than the baseline model\n",
        "1-y.mean()"
      ],
      "execution_count": 113,
      "outputs": [
        {
          "output_type": "execute_result",
          "data": {
            "text/plain": [
              "0.7981017182254956"
            ]
          },
          "metadata": {},
          "execution_count": 113
        }
      ]
    },
    {
      "cell_type": "code",
      "metadata": {
        "colab": {
          "base_uri": "https://localhost:8080/"
        },
        "id": "b-lQiH1ZZ9T2",
        "outputId": "80079c02-e047-4e7a-8b78-efd8fc472332"
      },
      "source": [
        "from sklearn.neighbors import KNeighborsClassifier\n",
        "knn = KNeighborsClassifier()\n",
        "knn.fit(X_train,y_train)\n",
        "knn.score(X_test,y_test)"
      ],
      "execution_count": 48,
      "outputs": [
        {
          "output_type": "execute_result",
          "data": {
            "text/plain": [
              "0.7677608483225363"
            ]
          },
          "metadata": {},
          "execution_count": 48
        }
      ]
    },
    {
      "cell_type": "code",
      "metadata": {
        "id": "fYWx8WCrluKB"
      },
      "source": [
        "neighbor_range = [1,2,3,4,5]\n",
        "AccList = []\n",
        "\n",
        "scaler = StandardScaler()\n",
        "X_train_sc = scaler.fit_transform(X_train)\n",
        "X_test_sc = scaler.transform(X_test)\n",
        "\n",
        "for neighbor in neighbor_range:\n",
        "  knn=KNeighborsClassifier(n_neighbors=neighbor)\n",
        "  knn.fit(X_train_sc,y_train)\n",
        "  AccList = AccList +  [knn.score(X_test_sc,y_test)]"
      ],
      "execution_count": 49,
      "outputs": []
    },
    {
      "cell_type": "code",
      "metadata": {
        "colab": {
          "base_uri": "https://localhost:8080/"
        },
        "id": "znooPkPIMYVT",
        "outputId": "781a33f4-38a0-46c6-dc6b-d6b3e045c0c9"
      },
      "source": [
        "AccList"
      ],
      "execution_count": 50,
      "outputs": [
        {
          "output_type": "execute_result",
          "data": {
            "text/plain": [
              "[0.7126054069704317,\n",
              " 0.7770981868191524,\n",
              " 0.7475299482465347,\n",
              " 0.7816220911295284,\n",
              " 0.7654808005501068]"
            ]
          },
          "metadata": {},
          "execution_count": 50
        }
      ]
    },
    {
      "cell_type": "code",
      "metadata": {
        "colab": {
          "base_uri": "https://localhost:8080/",
          "height": 282
        },
        "id": "dUqkbLk5nqaT",
        "outputId": "04a7214b-c26e-49fb-ca57-f90803f1d0e4"
      },
      "source": [
        "plt.plot(neighbor_range,AccList)"
      ],
      "execution_count": 51,
      "outputs": [
        {
          "output_type": "execute_result",
          "data": {
            "text/plain": [
              "[<matplotlib.lines.Line2D at 0x7fb307708110>]"
            ]
          },
          "metadata": {},
          "execution_count": 51
        },
        {
          "output_type": "display_data",
          "data": {
            "image/png": "[encoded data removed]",
            "text/plain": [
              "<Figure size 432x288 with 1 Axes>"
            ]
          },
          "metadata": {
            "needs_background": "light"
          }
        }
      ]
    },
    {
      "cell_type": "code",
      "metadata": {
        "colab": {
          "base_uri": "https://localhost:8080/"
        },
        "id": "VK-aPRkRq85V",
        "outputId": "d642a69d-7075-4983-f18d-cf66256deec3"
      },
      "source": [
        "neighbor_range[AccList.index(max(AccList))]"
      ],
      "execution_count": 52,
      "outputs": [
        {
          "output_type": "execute_result",
          "data": {
            "text/plain": [
              "4"
            ]
          },
          "metadata": {},
          "execution_count": 52
        }
      ]
    },
    {
      "cell_type": "code",
      "metadata": {
        "colab": {
          "base_uri": "https://localhost:8080/"
        },
        "id": "j53lS2dob_I1",
        "outputId": "3c92b427-5615-43e2-b1dc-5b926e462efa"
      },
      "source": [
        "from sklearn.decomposition import PCA\n",
        "\n",
        "pca = PCA()\n",
        "pca.fit(X_train_sc)\n",
        "pca.explained_variance_ratio_.shape"
      ],
      "execution_count": 53,
      "outputs": [
        {
          "output_type": "execute_result",
          "data": {
            "text/plain": [
              "(20,)"
            ]
          },
          "metadata": {},
          "execution_count": 53
        }
      ]
    },
    {
      "cell_type": "code",
      "metadata": {
        "colab": {
          "base_uri": "https://localhost:8080/",
          "height": 296
        },
        "id": "A76qSKvPdMTP",
        "outputId": "01caf826-6c9b-46a3-9825-5b06d6a848ad"
      },
      "source": [
        "# Plot the explained variance ratios of the first 10 principal components\n",
        "plt.plot(range(1, 21), pca.explained_variance_ratio_, marker = '.')\n",
        "plt.xticks(ticks = range(0, 20))\n",
        "plt.xlabel('Principal Component')\n",
        "plt.ylabel('Proportion of Explained Variance')"
      ],
      "execution_count": 54,
      "outputs": [
        {
          "output_type": "execute_result",
          "data": {
            "text/plain": [
              "Text(0, 0.5, 'Proportion of Explained Variance')"
            ]
          },
          "metadata": {},
          "execution_count": 54
        },
        {
          "output_type": "display_data",
          "data": {
            "image/png": "[encoded data removed]",
            "text/plain": [
              "<Figure size 432x288 with 1 Axes>"
            ]
          },
          "metadata": {
            "needs_background": "light"
          }
        }
      ]
    },
    {
      "cell_type": "code",
      "metadata": {
        "colab": {
          "base_uri": "https://localhost:8080/"
        },
        "id": "AieHHO4udi4l",
        "outputId": "eee8bbc7-f878-4477-8905-ed963ddef6a8"
      },
      "source": [
        "sum(pca.explained_variance_ratio_)"
      ],
      "execution_count": 55,
      "outputs": [
        {
          "output_type": "execute_result",
          "data": {
            "text/plain": [
              "1.0000000000000002"
            ]
          },
          "metadata": {},
          "execution_count": 55
        }
      ]
    },
    {
      "cell_type": "code",
      "metadata": {
        "id": "KZFX2dlmrICi"
      },
      "source": [
        "X_train_pca = pca.fit_transform(X_train_sc)\n",
        "X_test_pca = pca.transform(X_test_sc)"
      ],
      "execution_count": 56,
      "outputs": []
    },
    {
      "cell_type": "code",
      "metadata": {
        "id": "hAoL7ejkexBM"
      },
      "source": [
        "neighbor_range = list(range(2,105,20))\n",
        "AccList = []\n",
        "\n",
        "for neighbor in neighbor_range:\n",
        "  knn=KNeighborsClassifier(n_neighbors=neighbor)\n",
        "  knn.fit(X_train_pca,y_train)\n",
        "  AccList = AccList +  [knn.score(X_test_pca,y_test)]"
      ],
      "execution_count": 57,
      "outputs": []
    },
    {
      "cell_type": "code",
      "metadata": {
        "colab": {
          "base_uri": "https://localhost:8080/",
          "height": 282
        },
        "id": "IoqW0nyhflVd",
        "outputId": "454a84ae-3fdd-4ec9-ea75-566c91b5044b"
      },
      "source": [
        "plt.plot(neighbor_range,AccList)"
      ],
      "execution_count": 58,
      "outputs": [
        {
          "output_type": "execute_result",
          "data": {
            "text/plain": [
              "[<matplotlib.lines.Line2D at 0x7fb2fcdc3a90>]"
            ]
          },
          "metadata": {},
          "execution_count": 58
        },
        {
          "output_type": "display_data",
          "data": {
            "image/png": "[encoded data removed]",
            "text/plain": [
              "<Figure size 432x288 with 1 Axes>"
            ]
          },
          "metadata": {
            "needs_background": "light"
          }
        }
      ]
    },
    {
      "cell_type": "code",
      "metadata": {
        "colab": {
          "base_uri": "https://localhost:8080/"
        },
        "id": "KI9HDtvFoozJ",
        "outputId": "d4b47676-8a44-4998-8cec-3e8325f90cae"
      },
      "source": [
        "neighbor_range[AccList.index(max(AccList))]"
      ],
      "execution_count": 59,
      "outputs": [
        {
          "output_type": "execute_result",
          "data": {
            "text/plain": [
              "102"
            ]
          },
          "metadata": {},
          "execution_count": 59
        }
      ]
    },
    {
      "cell_type": "code",
      "metadata": {
        "colab": {
          "base_uri": "https://localhost:8080/"
        },
        "id": "_QrpskerpMc4",
        "outputId": "7752aefb-8e5e-4762-8515-a5f65be5f2a5"
      },
      "source": [
        "knn=KNeighborsClassifier(n_neighbors=100)\n",
        "knn.fit(X_train_pca,y_train)\n",
        "knn.score(X_test_pca,y_test)"
      ],
      "execution_count": 62,
      "outputs": [
        {
          "output_type": "execute_result",
          "data": {
            "text/plain": [
              "0.7975462343020521"
            ]
          },
          "metadata": {},
          "execution_count": 62
        }
      ]
    },
    {
      "cell_type": "code",
      "metadata": {
        "colab": {
          "base_uri": "https://localhost:8080/",
          "height": 282
        },
        "id": "aVY_obf3rReR",
        "outputId": "37ced9e6-5e58-4feb-8ed5-c1ee3974745a"
      },
      "source": [
        "from xgboost import XGBClassifier\n",
        "\n",
        "estimator_range = list(range(10,200,10))\n",
        "AccList = []\n",
        "\n",
        "for estimator in estimator_range:\n",
        "  xgb=XGBClassifier(n_estimators=estimator)\n",
        "  xgb.fit(X_train_sc,y_train)\n",
        "  AccList = AccList + [xgb.score(X_test_sc,y_test)]\n",
        "\n",
        "plt.plot(estimator_range,AccList)"
      ],
      "execution_count": 61,
      "outputs": [
        {
          "output_type": "execute_result",
          "data": {
            "text/plain": [
              "[<matplotlib.lines.Line2D at 0x7fb2f3f7ca10>]"
            ]
          },
          "metadata": {},
          "execution_count": 61
        },
        {
          "output_type": "display_data",
          "data": {
            "image/png": "[encoded data removed]",
            "text/plain": [
              "<Figure size 432x288 with 1 Axes>"
            ]
          },
          "metadata": {
            "needs_background": "light"
          }
        }
      ]
    },
    {
      "cell_type": "code",
      "metadata": {
        "colab": {
          "base_uri": "https://localhost:8080/"
        },
        "id": "QipEImut0zSO",
        "outputId": "1bd4b77a-e47d-4f69-cbd3-6d3067df6e5a"
      },
      "source": [
        "n_est = estimator_range[AccList.index(max(AccList))]\n",
        "\n",
        "xgb=XGBClassifier(n_estimators=n_est)\n",
        "xgb.fit(X_train_sc,y_train)\n",
        "xgb.score(X_test_sc,y_test)"
      ],
      "execution_count": 63,
      "outputs": [
        {
          "output_type": "execute_result",
          "data": {
            "text/plain": [
              "0.7974738518330861"
            ]
          },
          "metadata": {},
          "execution_count": 63
        }
      ]
    },
    {
      "cell_type": "code",
      "metadata": {
        "id": "gvHmBXhr2n9H"
      },
      "source": [
        "from sklearn.ensemble import RandomForestClassifier\n",
        "estimator_range = list(range(100,300,10))\n",
        "AccList = []\n",
        "\n",
        "for estimator in estimator_range:\n",
        "  RF=RandomForestClassifier(n_estimators=estimator)\n",
        "  RF.fit(X_train,y_train)\n",
        "  AccList = AccList + [RF.score(X_test,y_test)]"
      ],
      "execution_count": 66,
      "outputs": []
    },
    {
      "cell_type": "code",
      "metadata": {
        "colab": {
          "base_uri": "https://localhost:8080/",
          "height": 284
        },
        "id": "PnSyzEJe4au5",
        "outputId": "a1fa6482-78ae-4317-a1e8-cab48004d94b"
      },
      "source": [
        "plt.plot(estimator_range,AccList)"
      ],
      "execution_count": 67,
      "outputs": [
        {
          "output_type": "execute_result",
          "data": {
            "text/plain": [
              "[<matplotlib.lines.Line2D at 0x7fb2f30550d0>]"
            ]
          },
          "metadata": {},
          "execution_count": 67
        },
        {
          "output_type": "display_data",
          "data": {
            "image/png": "[encoded data removed]",
            "text/plain": [
              "<Figure size 432x288 with 1 Axes>"
            ]
          },
          "metadata": {
            "needs_background": "light"
          }
        }
      ]
    },
    {
      "cell_type": "markdown",
      "metadata": {
        "id": "2CLmiC7zuLjz"
      },
      "source": [
        "From these models we can see that the best result is achieved by a PCA-transformed set used in KNearestNeighborClassifier, and more specifically with 100 neighbors."
      ]
    },
    {
      "cell_type": "markdown",
      "metadata": {
        "id": "5fWma7ti1lgO"
      },
      "source": [
        "The main issue with this data set is the low number (only around 20% of all of the entries) of No-shows. Because of this, a model that only predicts 'No' in No-show will already have a relatively high (~80%) accuracy."
      ]
    },
    {
      "cell_type": "code",
      "metadata": {
        "id": "4FdPWiB9utfq"
      },
      "source": [
        ""
      ],
      "execution_count": null,
      "outputs": []
    }
  ]
}